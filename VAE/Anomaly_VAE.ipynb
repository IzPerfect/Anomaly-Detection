{
 "cells": [
  {
   "cell_type": "markdown",
   "metadata": {},
   "source": [
    "# import libs"
   ]
  },
  {
   "cell_type": "code",
   "execution_count": 1,
   "metadata": {},
   "outputs": [],
   "source": [
    "import torch\n",
    "import torch.nn as nn\n",
    "import torch.nn.functional as F\n",
    "import torch.optim as optim"
   ]
  },
  {
   "cell_type": "code",
   "execution_count": 2,
   "metadata": {},
   "outputs": [
    {
     "data": {
      "text/plain": [
       "'1.1.0'"
      ]
     },
     "execution_count": 2,
     "metadata": {},
     "output_type": "execute_result"
    }
   ],
   "source": [
    "torch.__version__"
   ]
  },
  {
   "cell_type": "code",
   "execution_count": 3,
   "metadata": {},
   "outputs": [],
   "source": [
    "device = 'cuda' if torch.cuda.is_available() else 'cpu'"
   ]
  },
  {
   "cell_type": "code",
   "execution_count": 4,
   "metadata": {},
   "outputs": [
    {
     "data": {
      "text/plain": [
       "'cuda'"
      ]
     },
     "execution_count": 4,
     "metadata": {},
     "output_type": "execute_result"
    }
   ],
   "source": [
    "device"
   ]
  },
  {
   "cell_type": "code",
   "execution_count": 5,
   "metadata": {},
   "outputs": [],
   "source": [
    "import sys\n",
    "import os"
   ]
  },
  {
   "cell_type": "code",
   "execution_count": 6,
   "metadata": {},
   "outputs": [],
   "source": [
    "cwd = os.getcwd()"
   ]
  },
  {
   "cell_type": "code",
   "execution_count": 7,
   "metadata": {},
   "outputs": [
    {
     "data": {
      "text/plain": [
       "sys.version_info(major=3, minor=6, micro=8, releaselevel='final', serial=0)"
      ]
     },
     "execution_count": 7,
     "metadata": {},
     "output_type": "execute_result"
    }
   ],
   "source": [
    "sys.version_info"
   ]
  },
  {
   "cell_type": "code",
   "execution_count": 8,
   "metadata": {},
   "outputs": [],
   "source": [
    "import random"
   ]
  },
  {
   "cell_type": "code",
   "execution_count": 9,
   "metadata": {},
   "outputs": [],
   "source": [
    "random.seed(1)\n",
    "torch.manual_seed(1)\n",
    "if device == 'cuda':\n",
    "    torch.cuda.manual_seed_all(1)"
   ]
  },
  {
   "cell_type": "markdown",
   "metadata": {},
   "source": [
    "# VAE- Encoder"
   ]
  },
  {
   "cell_type": "code",
   "execution_count": 10,
   "metadata": {},
   "outputs": [],
   "source": [
    "class Encoder(nn.Module):\n",
    "    def __init__(self):\n",
    "        super().__init__()\n",
    "        \n",
    "        # for encoder\n",
    "        self.enc_layer1 = nn.Linear(in_features = 28*28, out_features = 512)\n",
    "        self.enc_layer2 = nn.Linear(in_features = 512, out_features = 256)\n",
    "        \n",
    "        # encoder z_mean & z_log_sigma_sq\n",
    "        self.z_mean_layer = nn.Linear(256, 2)\n",
    "        self.z_log_sigma_sq_layer  = nn.Linear(256, 2)\n",
    "    \n",
    "    def reparam(self, z_mean, z_log_sigma_sq):\n",
    "        \n",
    "        eps = torch.randn(2)\n",
    "        eps = eps.to(device)\n",
    "        \n",
    "        z = z_mean + torch.sqrt(torch.exp(z_log_sigma_sq)) * eps\n",
    "        \n",
    "        return eps, z\n",
    "                \n",
    "    def forward(self, x):\n",
    "        x = F.relu(self.enc_layer1(x))\n",
    "        x = F.relu(self.enc_layer2(x))\n",
    "        \n",
    "        z_mean = self.z_mean_layer(x)\n",
    "        z_log_sigma_sq  = self.z_log_sigma_sq_layer(x)\n",
    "    \n",
    "        \n",
    "        eps, z = self.reparam(z_mean, z_log_sigma_sq)\n",
    "        return z_mean, z_log_sigma_sq, eps, z"
   ]
  },
  {
   "cell_type": "code",
   "execution_count": 11,
   "metadata": {},
   "outputs": [],
   "source": [
    "encoder = Encoder().to(device)"
   ]
  },
  {
   "cell_type": "markdown",
   "metadata": {},
   "source": [
    "# VAE - Decoder"
   ]
  },
  {
   "cell_type": "code",
   "execution_count": 12,
   "metadata": {},
   "outputs": [],
   "source": [
    "class Decoder(nn.Module):\n",
    "    def __init__(self):\n",
    "        super().__init__()\n",
    " \n",
    "        # for decoder\n",
    "        self.dec_layer1 = nn.Linear(in_features = 2, out_features = 256)\n",
    "        self.dec_layer2 = nn.Linear(in_features = 256, out_features = 512)\n",
    "        \n",
    "        # for reconstruction\n",
    "        self.recons_layer = nn.Linear(512, 28*28)\n",
    "        \n",
    "    def forward(self, x):\n",
    "        x = F.relu(self.dec_layer1(x))\n",
    "        x = F.relu(self.dec_layer2(x))\n",
    "        \n",
    "        \n",
    "        x = self.recons_layer(x)\n",
    "        x = torch.sigmoid(x)\n",
    "    \n",
    "        return x"
   ]
  },
  {
   "cell_type": "code",
   "execution_count": 13,
   "metadata": {},
   "outputs": [],
   "source": [
    "decoder = Decoder().to(device)"
   ]
  },
  {
   "cell_type": "markdown",
   "metadata": {},
   "source": [
    "# Data Load"
   ]
  },
  {
   "cell_type": "code",
   "execution_count": 14,
   "metadata": {},
   "outputs": [],
   "source": [
    "from lib.mnist import *"
   ]
  },
  {
   "cell_type": "code",
   "execution_count": 15,
   "metadata": {},
   "outputs": [],
   "source": [
    "mymnist = MyMNIST()"
   ]
  },
  {
   "cell_type": "markdown",
   "metadata": {},
   "source": [
    "# Train"
   ]
  },
  {
   "cell_type": "code",
   "execution_count": 16,
   "metadata": {},
   "outputs": [
    {
     "data": {
      "text/plain": [
       "Encoder(\n",
       "  (enc_layer1): Linear(in_features=784, out_features=512, bias=True)\n",
       "  (enc_layer2): Linear(in_features=512, out_features=256, bias=True)\n",
       "  (z_mean_layer): Linear(in_features=256, out_features=2, bias=True)\n",
       "  (z_log_sigma_sq_layer): Linear(in_features=256, out_features=2, bias=True)\n",
       ")"
      ]
     },
     "execution_count": 16,
     "metadata": {},
     "output_type": "execute_result"
    }
   ],
   "source": [
    "encoder.train()"
   ]
  },
  {
   "cell_type": "code",
   "execution_count": 17,
   "metadata": {},
   "outputs": [
    {
     "data": {
      "text/plain": [
       "Decoder(\n",
       "  (dec_layer1): Linear(in_features=2, out_features=256, bias=True)\n",
       "  (dec_layer2): Linear(in_features=256, out_features=512, bias=True)\n",
       "  (recons_layer): Linear(in_features=512, out_features=784, bias=True)\n",
       ")"
      ]
     },
     "execution_count": 17,
     "metadata": {},
     "output_type": "execute_result"
    }
   ],
   "source": [
    "decoder.train()"
   ]
  },
  {
   "cell_type": "code",
   "execution_count": 18,
   "metadata": {},
   "outputs": [],
   "source": [
    "params = list(encoder.parameters())+ list(decoder.parameters())"
   ]
  },
  {
   "cell_type": "code",
   "execution_count": 19,
   "metadata": {},
   "outputs": [],
   "source": [
    "learning_rate = 1e-3\n",
    "epochs = 10"
   ]
  },
  {
   "cell_type": "code",
   "execution_count": 20,
   "metadata": {},
   "outputs": [],
   "source": [
    "optimizer = optim.Adam(params, lr=learning_rate)\n",
    "recons_loss_function = nn.BCELoss(reduction ='sum')"
   ]
  },
  {
   "cell_type": "markdown",
   "metadata": {},
   "source": [
    "only '1' class: normal, others: abnormal"
   ]
  },
  {
   "cell_type": "code",
   "execution_count": 21,
   "metadata": {},
   "outputs": [
    {
     "name": "stdout",
     "output_type": "stream",
     "text": [
      "Epoch: 1, avg loss: 2.021543025970459\n",
      "Epoch: 2, avg loss: 1.6980074644088745\n",
      "Epoch: 3, avg loss: 0.8988869190216064\n",
      "Epoch: 4, avg loss: 1.5473864078521729\n",
      "Epoch: 5, avg loss: 1.283879041671753\n",
      "Epoch: 6, avg loss: 1.8838728666305542\n",
      "Epoch: 7, avg loss: 1.5336138010025024\n",
      "Epoch: 8, avg loss: 1.8305293321609497\n",
      "Epoch: 9, avg loss: 2.1448445320129395\n",
      "Epoch: 10, avg loss: 1.0436557531356812\n"
     ]
    }
   ],
   "source": [
    "for i in range(epochs):\n",
    "    for X, Y in mymnist.train_data_loader:\n",
    "        avg_loss = 0\n",
    "        Y = Y == 1 # only 1 class is normal\n",
    "        X = X.view([-1, 28*28]).to(device)\n",
    "        X = X[Y]\n",
    "\n",
    "        \n",
    "        \n",
    "        z_mean, z_log_sigma_sq, eps, z = encoder(X)\n",
    "        X_hat = decoder(z)\n",
    "\n",
    "        recons_loss = -recons_loss_function(X_hat, X)\n",
    "        KLD = 0.5 * torch.sum(z_mean**2 + torch.exp(z_log_sigma_sq) \n",
    "                              -z_log_sigma_sq -1)\n",
    "\n",
    "        ELBO = torch.mean(-recons_loss + KLD)\n",
    "\n",
    "        optimizer.zero_grad()\n",
    "        ELBO.backward()\n",
    "        optimizer.step()\n",
    "        \n",
    "        avg_loss += ELBO / len(mymnist.train_data_loader)\n",
    "    \n",
    "    print('Epoch: {}, avg loss: {}'.format(i+1, avg_loss))\n",
    "    "
   ]
  },
  {
   "cell_type": "markdown",
   "metadata": {},
   "source": [
    "# Test\n",
    "- Determine abnormal class based on mse"
   ]
  },
  {
   "cell_type": "code",
   "execution_count": 22,
   "metadata": {},
   "outputs": [],
   "source": [
    "import matplotlib.pyplot as plt"
   ]
  },
  {
   "cell_type": "code",
   "execution_count": 23,
   "metadata": {},
   "outputs": [],
   "source": [
    "display_num = 30\n",
    "\n",
    "for X, Y in mymnist.test_data_loader:\n",
    "    X = X.view([-1, 28*28]).to(device)\n",
    "    break\n",
    "    \n",
    "z_mean, z_log_sigma_sq, eps, z = encoder(X)\n",
    "X_hat = decoder(z)"
   ]
  },
  {
   "cell_type": "code",
   "execution_count": 24,
   "metadata": {},
   "outputs": [],
   "source": [
    "display_num = 30\n",
    "col = 28\n",
    "row = 28"
   ]
  },
  {
   "cell_type": "code",
   "execution_count": 26,
   "metadata": {},
   "outputs": [
    {
     "data": {
      "text/plain": [
       "<matplotlib.image.AxesImage at 0x2952bea2438>"
      ]
     },
     "execution_count": 26,
     "metadata": {},
     "output_type": "execute_result"
    },
    {
     "data": {
      "image/png": "[encoded data removed]",
      "text/plain": [
       "<Figure size 720x1440 with 1 Axes>"
      ]
     },
     "metadata": {
      "needs_background": "light"
     },
     "output_type": "display_data"
    }
   ],
   "source": [
    "n = np.sqrt(display_num).astype(np.int32)\n",
    "reconstructed = np.empty((col*n, 2*row*n))\n",
    "for i in range(n):\n",
    "    for j in range(n):\n",
    "        x = np.concatenate(\n",
    "            (X_hat[i*n+j, :].cpu().detach().numpy().reshape(col, row), \n",
    "             X[i*n+j, :].cpu().reshape(col, row)),\n",
    "            axis=1\n",
    "        )\n",
    "        reconstructed[i*col:(i+1)*col, j*2*row:(j+1)*2*row] = x\n",
    "\n",
    "plt.figure(figsize=(10, 20))\n",
    "plt.title('Data reconstruction')\n",
    "plt.imshow(reconstructed, cmap='gray')"
   ]
  },
  {
   "cell_type": "markdown",
   "metadata": {},
   "source": [
    "## abnormal threshold settings"
   ]
  },
  {
   "cell_type": "code",
   "execution_count": 27,
   "metadata": {},
   "outputs": [],
   "source": [
    "mse_normal_array = []"
   ]
  },
  {
   "cell_type": "markdown",
   "metadata": {},
   "source": [
    "normal array"
   ]
  },
  {
   "cell_type": "code",
   "execution_count": 28,
   "metadata": {},
   "outputs": [],
   "source": [
    "with torch.no_grad():\n",
    "    encoder.eval()\n",
    "    decoder.eval()\n",
    "    \n",
    "    for X, Y in mymnist.train_data_loader:\n",
    "        Y = Y == 1\n",
    "        X_normal = X.view([-1, 28*28]).to(device)\n",
    "        X_normal = X_normal[Y]\n",
    "        \n",
    "        z_mean, z_log_sigma_sq, eps, z = encoder(X_normal)\n",
    "        X_hat_normal = decoder(z)\n",
    "        \n",
    "        mse_normal_array.append(np.mean(np.power((X_normal.cpu().numpy() - X_hat_normal.cpu().numpy()), 2), axis=1))"
   ]
  },
  {
   "cell_type": "code",
   "execution_count": 29,
   "metadata": {},
   "outputs": [],
   "source": [
    "import itertools"
   ]
  },
  {
   "cell_type": "code",
   "execution_count": 30,
   "metadata": {},
   "outputs": [],
   "source": [
    "mse_normal_array = list(itertools.chain(*mse_normal_array))"
   ]
  },
  {
   "cell_type": "code",
   "execution_count": 31,
   "metadata": {},
   "outputs": [
    {
     "data": {
      "text/plain": [
       "6729"
      ]
     },
     "execution_count": 31,
     "metadata": {},
     "output_type": "execute_result"
    }
   ],
   "source": [
    "len(mse_normal_array)"
   ]
  },
  {
   "cell_type": "code",
   "execution_count": 32,
   "metadata": {},
   "outputs": [],
   "source": [
    "import pandas as pd"
   ]
  },
  {
   "cell_type": "code",
   "execution_count": 33,
   "metadata": {},
   "outputs": [],
   "source": [
    "df = pd.DataFrame(mse_normal_array, columns = ['mse'])"
   ]
  },
  {
   "cell_type": "code",
   "execution_count": 34,
   "metadata": {},
   "outputs": [],
   "source": [
    "df['label'] = 0"
   ]
  },
  {
   "cell_type": "code",
   "execution_count": 35,
   "metadata": {},
   "outputs": [
    {
     "data": {
      "image/png": "[encoded data removed]",
      "text/plain": [
       "<Figure size 432x288 with 1 Axes>"
      ]
     },
     "metadata": {
      "needs_background": "light"
     },
     "output_type": "display_data"
    }
   ],
   "source": [
    "df[['mse']].boxplot()\n",
    "plt.show()"
   ]
  },
  {
   "cell_type": "code",
   "execution_count": 36,
   "metadata": {},
   "outputs": [
    {
     "data": {
      "text/plain": [
       "count    6729.000000\n",
       "mean        0.009051\n",
       "std         0.007042\n",
       "min         0.001168\n",
       "25%         0.005051\n",
       "50%         0.007271\n",
       "75%         0.010551\n",
       "max         0.088647\n",
       "Name: mse, dtype: float64"
      ]
     },
     "execution_count": 36,
     "metadata": {},
     "output_type": "execute_result"
    }
   ],
   "source": [
    "df['mse'].describe()"
   ]
  },
  {
   "cell_type": "markdown",
   "metadata": {},
   "source": [
    "abnormal mse"
   ]
  },
  {
   "cell_type": "code",
   "execution_count": 37,
   "metadata": {},
   "outputs": [],
   "source": [
    "mse_abnormal_array = []"
   ]
  },
  {
   "cell_type": "code",
   "execution_count": 38,
   "metadata": {},
   "outputs": [],
   "source": [
    "with torch.no_grad():\n",
    "    encoder.eval()\n",
    "    decoder.eval()\n",
    "    \n",
    "    for X, Y in mymnist.train_data_loader:\n",
    "        Y = Y != 1\n",
    "        X_normal = X.view([-1, 28*28]).to(device)\n",
    "        X_normal = X_normal[Y]\n",
    "        \n",
    "        z_mean, z_log_sigma_sq, eps, z = encoder(X_normal)\n",
    "        X_hat_normal = decoder(z)\n",
    "        \n",
    "        mse_abnormal_array.append(np.mean(np.power((X_normal.cpu().numpy() - X_hat_normal.cpu().numpy()), 2), axis=1))"
   ]
  },
  {
   "cell_type": "code",
   "execution_count": 39,
   "metadata": {},
   "outputs": [],
   "source": [
    "mse_abnormal_array = list(itertools.chain(*mse_abnormal_array))"
   ]
  },
  {
   "cell_type": "code",
   "execution_count": 40,
   "metadata": {},
   "outputs": [],
   "source": [
    "df_abnormal = pd.DataFrame(mse_abnormal_array, columns = ['mse'])"
   ]
  },
  {
   "cell_type": "code",
   "execution_count": 41,
   "metadata": {},
   "outputs": [],
   "source": [
    "df_abnormal['label'] = 1"
   ]
  },
  {
   "cell_type": "code",
   "execution_count": 42,
   "metadata": {},
   "outputs": [
    {
     "data": {
      "image/png": "[encoded data removed]",
      "text/plain": [
       "<Figure size 432x288 with 1 Axes>"
      ]
     },
     "metadata": {
      "needs_background": "light"
     },
     "output_type": "display_data"
    }
   ],
   "source": [
    "df_abnormal[['mse']].boxplot()\n",
    "plt.show()"
   ]
  },
  {
   "cell_type": "code",
   "execution_count": 43,
   "metadata": {},
   "outputs": [
    {
     "data": {
      "text/html": [
       "<div>\n",
       "<style scoped>\n",
       "    .dataframe tbody tr th:only-of-type {\n",
       "        vertical-align: middle;\n",
       "    }\n",
       "\n",
       "    .dataframe tbody tr th {\n",
       "        vertical-align: top;\n",
       "    }\n",
       "\n",
       "    .dataframe thead th {\n",
       "        text-align: right;\n",
       "    }\n",
       "</style>\n",
       "<table border=\"1\" class=\"dataframe\">\n",
       "  <thead>\n",
       "    <tr style=\"text-align: right;\">\n",
       "      <th></th>\n",
       "      <th>mse</th>\n",
       "    </tr>\n",
       "  </thead>\n",
       "  <tbody>\n",
       "    <tr>\n",
       "      <th>count</th>\n",
       "      <td>53170.000000</td>\n",
       "    </tr>\n",
       "    <tr>\n",
       "      <th>mean</th>\n",
       "      <td>0.083424</td>\n",
       "    </tr>\n",
       "    <tr>\n",
       "      <th>std</th>\n",
       "      <td>0.027017</td>\n",
       "    </tr>\n",
       "    <tr>\n",
       "      <th>min</th>\n",
       "      <td>0.012296</td>\n",
       "    </tr>\n",
       "    <tr>\n",
       "      <th>25%</th>\n",
       "      <td>0.066010</td>\n",
       "    </tr>\n",
       "    <tr>\n",
       "      <th>50%</th>\n",
       "      <td>0.078586</td>\n",
       "    </tr>\n",
       "    <tr>\n",
       "      <th>75%</th>\n",
       "      <td>0.094355</td>\n",
       "    </tr>\n",
       "    <tr>\n",
       "      <th>max</th>\n",
       "      <td>0.292266</td>\n",
       "    </tr>\n",
       "  </tbody>\n",
       "</table>\n",
       "</div>"
      ],
      "text/plain": [
       "                mse\n",
       "count  53170.000000\n",
       "mean       0.083424\n",
       "std        0.027017\n",
       "min        0.012296\n",
       "25%        0.066010\n",
       "50%        0.078586\n",
       "75%        0.094355\n",
       "max        0.292266"
      ]
     },
     "execution_count": 43,
     "metadata": {},
     "output_type": "execute_result"
    }
   ],
   "source": [
    "df_abnormal[['mse']].describe()"
   ]
  },
  {
   "cell_type": "code",
   "execution_count": 44,
   "metadata": {},
   "outputs": [],
   "source": [
    "df_anomaly = pd.concat([df, df_abnormal], axis = 0)"
   ]
  },
  {
   "cell_type": "code",
   "execution_count": 45,
   "metadata": {},
   "outputs": [
    {
     "data": {
      "text/html": [
       "<div>\n",
       "<style scoped>\n",
       "    .dataframe tbody tr th:only-of-type {\n",
       "        vertical-align: middle;\n",
       "    }\n",
       "\n",
       "    .dataframe tbody tr th {\n",
       "        vertical-align: top;\n",
       "    }\n",
       "\n",
       "    .dataframe thead th {\n",
       "        text-align: right;\n",
       "    }\n",
       "</style>\n",
       "<table border=\"1\" class=\"dataframe\">\n",
       "  <thead>\n",
       "    <tr style=\"text-align: right;\">\n",
       "      <th></th>\n",
       "      <th>mse</th>\n",
       "      <th>label</th>\n",
       "    </tr>\n",
       "  </thead>\n",
       "  <tbody>\n",
       "    <tr>\n",
       "      <th>0</th>\n",
       "      <td>0.013901</td>\n",
       "      <td>0</td>\n",
       "    </tr>\n",
       "    <tr>\n",
       "      <th>1</th>\n",
       "      <td>0.003939</td>\n",
       "      <td>0</td>\n",
       "    </tr>\n",
       "    <tr>\n",
       "      <th>2</th>\n",
       "      <td>0.006649</td>\n",
       "      <td>0</td>\n",
       "    </tr>\n",
       "    <tr>\n",
       "      <th>3</th>\n",
       "      <td>0.029790</td>\n",
       "      <td>0</td>\n",
       "    </tr>\n",
       "    <tr>\n",
       "      <th>4</th>\n",
       "      <td>0.005226</td>\n",
       "      <td>0</td>\n",
       "    </tr>\n",
       "    <tr>\n",
       "      <th>...</th>\n",
       "      <td>...</td>\n",
       "      <td>...</td>\n",
       "    </tr>\n",
       "    <tr>\n",
       "      <th>53165</th>\n",
       "      <td>0.135085</td>\n",
       "      <td>1</td>\n",
       "    </tr>\n",
       "    <tr>\n",
       "      <th>53166</th>\n",
       "      <td>0.205681</td>\n",
       "      <td>1</td>\n",
       "    </tr>\n",
       "    <tr>\n",
       "      <th>53167</th>\n",
       "      <td>0.102509</td>\n",
       "      <td>1</td>\n",
       "    </tr>\n",
       "    <tr>\n",
       "      <th>53168</th>\n",
       "      <td>0.035749</td>\n",
       "      <td>1</td>\n",
       "    </tr>\n",
       "    <tr>\n",
       "      <th>53169</th>\n",
       "      <td>0.077328</td>\n",
       "      <td>1</td>\n",
       "    </tr>\n",
       "  </tbody>\n",
       "</table>\n",
       "<p>59899 rows × 2 columns</p>\n",
       "</div>"
      ],
      "text/plain": [
       "            mse  label\n",
       "0      0.013901      0\n",
       "1      0.003939      0\n",
       "2      0.006649      0\n",
       "3      0.029790      0\n",
       "4      0.005226      0\n",
       "...         ...    ...\n",
       "53165  0.135085      1\n",
       "53166  0.205681      1\n",
       "53167  0.102509      1\n",
       "53168  0.035749      1\n",
       "53169  0.077328      1\n",
       "\n",
       "[59899 rows x 2 columns]"
      ]
     },
     "execution_count": 45,
     "metadata": {},
     "output_type": "execute_result"
    }
   ],
   "source": [
    "df_anomaly"
   ]
  },
  {
   "cell_type": "code",
   "execution_count": 46,
   "metadata": {},
   "outputs": [],
   "source": [
    "from sklearn.metrics import roc_curve, auc, precision_recall_curve, confusion_matrix, classification_report"
   ]
  },
  {
   "cell_type": "code",
   "execution_count": 47,
   "metadata": {},
   "outputs": [
    {
     "data": {
      "image/png": "[encoded data removed]",
      "text/plain": [
       "<Figure size 432x288 with 1 Axes>"
      ]
     },
     "metadata": {
      "needs_background": "light"
     },
     "output_type": "display_data"
    }
   ],
   "source": [
    "fpr, tpr, thresholds = roc_curve(df_anomaly[\"label\"], df_anomaly[\"mse\"])\n",
    "roc_auc = auc(fpr, tpr)\n",
    "\n",
    "plt.title('Receiver Operating Characteristic')\n",
    "plt.plot(fpr, tpr, label='AUC = %0.4f'% roc_auc)\n",
    "plt.legend(loc='lower right')\n",
    "plt.plot([0,1],[0,1],'r--')\n",
    "plt.xlim([-0.001, 1])\n",
    "plt.ylim([0, 1.001])\n",
    "plt.ylabel('True Positive Rate')\n",
    "plt.xlabel('False Positive Rate')\n",
    "plt.show()"
   ]
  },
  {
   "cell_type": "code",
   "execution_count": null,
   "metadata": {},
   "outputs": [],
   "source": []
  }
 ],
 "metadata": {
  "kernelspec": {
   "display_name": "Python [conda env:pytorch36] *",
   "language": "python",
   "name": "conda-env-pytorch36-py"
  },
  "language_info": {
   "codemirror_mode": {
    "name": "ipython",
    "version": 3
   },
   "file_extension": ".py",
   "mimetype": "text/x-python",
   "name": "python",
   "nbconvert_exporter": "python",
   "pygments_lexer": "ipython3",
   "version": "3.6.8"
  },
  "toc": {
   "base_numbering": 1,
   "nav_menu": {},
   "number_sections": true,
   "sideBar": true,
   "skip_h1_title": false,
   "title_cell": "Table of Contents",
   "title_sidebar": "Contents",
   "toc_cell": false,
   "toc_position": {},
   "toc_section_display": true,
   "toc_window_display": false
  }
 },
 "nbformat": 4,
 "nbformat_minor": 2
}
