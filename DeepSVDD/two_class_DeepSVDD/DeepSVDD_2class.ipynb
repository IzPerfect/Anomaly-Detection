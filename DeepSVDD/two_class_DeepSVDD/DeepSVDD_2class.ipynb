{
 "cells": [
  {
   "cell_type": "markdown",
   "metadata": {},
   "source": [
    "- 모두의 연구소 풀잎스쿨 - Deep Learning for Anomaly Detection 논문 리뷰 4주차 발표 코드"
   ]
  },
  {
   "cell_type": "markdown",
   "metadata": {},
   "source": [
    "Paper: [Deep One-Class Classification](http://data.bit.uni-bonn.de/publications/ICML2018.pdf)"
   ]
  },
  {
   "cell_type": "markdown",
   "metadata": {},
   "source": [
    "아래 코드를 참고\n",
    "- [PyTorch Implementation of Deep SVDD](https://github.com/lukasruff/Deep-SVDD-PyTorch)\n",
    "- [[바람돌이/딥러닝] Deep SVDD 논문 및 코드 리뷰](https://blog.naver.com/PostView.nhn?blogId=winddori2002&logNo=222142873877&categoryNo=32&parentCategoryNo=1&viewDate=&currentPage=1&postListTopCurrentPage=1&from=postView)"
   ]
  },
  {
   "cell_type": "markdown",
   "metadata": {},
   "source": [
    "# Import Libs"
   ]
  },
  {
   "cell_type": "code",
   "execution_count": 1,
   "metadata": {},
   "outputs": [],
   "source": [
    "import torch\n",
    "import torch.nn as nn\n",
    "import torch.nn.functional as F\n",
    "import torch.optim as optim\n",
    "\n",
    "import random\n",
    "import matplotlib.pyplot as plt\n",
    "\n",
    "import os\n",
    "import numpy as np\n",
    "import sys"
   ]
  },
  {
   "cell_type": "code",
   "execution_count": 2,
   "metadata": {},
   "outputs": [
    {
     "data": {
      "text/plain": [
       "'1.1.0'"
      ]
     },
     "execution_count": 2,
     "metadata": {},
     "output_type": "execute_result"
    }
   ],
   "source": [
    "# version check\n",
    "torch.__version__"
   ]
  },
  {
   "cell_type": "code",
   "execution_count": 3,
   "metadata": {},
   "outputs": [
    {
     "data": {
      "text/plain": [
       "sys.version_info(major=3, minor=6, micro=8, releaselevel='final', serial=0)"
      ]
     },
     "execution_count": 3,
     "metadata": {},
     "output_type": "execute_result"
    }
   ],
   "source": [
    "# version check\n",
    "sys.version_info"
   ]
  },
  {
   "cell_type": "code",
   "execution_count": 4,
   "metadata": {},
   "outputs": [],
   "source": [
    "cwd = os.getcwd() # get current path"
   ]
  },
  {
   "cell_type": "code",
   "execution_count": 5,
   "metadata": {},
   "outputs": [
    {
     "data": {
      "text/plain": [
       "'cuda'"
      ]
     },
     "execution_count": 5,
     "metadata": {},
     "output_type": "execute_result"
    }
   ],
   "source": [
    "# device setting\n",
    "device = 'cuda' if torch.cuda.is_available() else 'cpu'\n",
    "device"
   ]
  },
  {
   "cell_type": "code",
   "execution_count": 6,
   "metadata": {},
   "outputs": [],
   "source": [
    "# for reproducibility\n",
    "random.seed(1)\n",
    "torch.manual_seed(1)\n",
    "if device == 'cuda':\n",
    "    torch.cuda.manual_seed_all(1)"
   ]
  },
  {
   "cell_type": "markdown",
   "metadata": {},
   "source": [
    "# MNIST Data Load"
   ]
  },
  {
   "cell_type": "code",
   "execution_count": 7,
   "metadata": {},
   "outputs": [],
   "source": [
    "from lib.mnist import *"
   ]
  },
  {
   "cell_type": "code",
   "execution_count": 8,
   "metadata": {},
   "outputs": [],
   "source": [
    "mymnist = MyMNIST()"
   ]
  },
  {
   "cell_type": "code",
   "execution_count": 9,
   "metadata": {},
   "outputs": [
    {
     "data": {
      "text/plain": [
       "128"
      ]
     },
     "execution_count": 9,
     "metadata": {},
     "output_type": "execute_result"
    }
   ],
   "source": [
    "mymnist.train_data_loader.batch_size # batch size"
   ]
  },
  {
   "cell_type": "code",
   "execution_count": 10,
   "metadata": {},
   "outputs": [
    {
     "data": {
      "image/png": "[encoded data removed]",
      "text/plain": [
       "<Figure size 432x288 with 1 Axes>"
      ]
     },
     "metadata": {
      "needs_background": "light"
     },
     "output_type": "display_data"
    }
   ],
   "source": [
    "# check mnist data\n",
    "for X, Y in mymnist.train_data_loader:\n",
    "    r = random.randint(0, mymnist.train_data_loader.batch_size)\n",
    "    fig = plt.figure()\n",
    "    ax = fig.add_subplot(1,1,1)\n",
    "    \n",
    "    ax.imshow(X[r].reshape(28,28), cmap = 'gray')\n",
    "    ax.set_title('label: {}'.format(Y[r]))\n",
    "    plt.show()\n",
    "    break\n",
    "    "
   ]
  },
  {
   "cell_type": "markdown",
   "metadata": {},
   "source": [
    "# Autoencoder"
   ]
  },
  {
   "cell_type": "code",
   "execution_count": 11,
   "metadata": {},
   "outputs": [],
   "source": [
    "from lib.networks import *"
   ]
  },
  {
   "cell_type": "code",
   "execution_count": 12,
   "metadata": {},
   "outputs": [],
   "source": [
    "autoencoder = AE().to(device)"
   ]
  },
  {
   "cell_type": "code",
   "execution_count": 13,
   "metadata": {},
   "outputs": [
    {
     "data": {
      "text/plain": [
       "AE(\n",
       "  (pool): MaxPool2d(kernel_size=2, stride=2, padding=0, dilation=1, ceil_mode=False)\n",
       "  (conv1): Conv2d(1, 8, kernel_size=(5, 5), stride=(1, 1), padding=(2, 2), bias=False)\n",
       "  (bn1): BatchNorm2d(8, eps=0.0001, momentum=0.1, affine=False, track_running_stats=True)\n",
       "  (conv2): Conv2d(8, 4, kernel_size=(5, 5), stride=(1, 1), padding=(2, 2), bias=False)\n",
       "  (bn2): BatchNorm2d(4, eps=0.0001, momentum=0.1, affine=False, track_running_stats=True)\n",
       "  (fc1): Linear(in_features=196, out_features=2, bias=False)\n",
       "  (deconv1): ConvTranspose2d(2, 4, kernel_size=(7, 7), stride=(1, 1), bias=False)\n",
       "  (bn3): BatchNorm2d(4, eps=0.0001, momentum=0.1, affine=False, track_running_stats=True)\n",
       "  (deconv2): ConvTranspose2d(4, 8, kernel_size=(5, 5), stride=(1, 1), padding=(3, 3), bias=False)\n",
       "  (bn4): BatchNorm2d(8, eps=0.0001, momentum=0.1, affine=False, track_running_stats=True)\n",
       "  (deconv3): ConvTranspose2d(8, 1, kernel_size=(5, 5), stride=(1, 1), padding=(2, 2), bias=False)\n",
       ")"
      ]
     },
     "execution_count": 13,
     "metadata": {},
     "output_type": "execute_result"
    }
   ],
   "source": [
    "autoencoder"
   ]
  },
  {
   "cell_type": "markdown",
   "metadata": {},
   "source": [
    "check weights before training"
   ]
  },
  {
   "cell_type": "code",
   "execution_count": 14,
   "metadata": {},
   "outputs": [
    {
     "data": {
      "text/plain": [
       "tensor([[[-0.0451,  0.1711,  0.1526,  0.1388, -0.0555],\n",
       "         [ 0.1929, -0.0180, -0.1085, -0.1262,  0.1290],\n",
       "         [-0.0484,  0.0050,  0.0810,  0.1887,  0.1327],\n",
       "         [-0.0088,  0.0123, -0.0187,  0.1024, -0.1708],\n",
       "         [ 0.0338, -0.1920, -0.0759,  0.0942, -0.1710]]], device='cuda:0')"
      ]
     },
     "execution_count": 14,
     "metadata": {},
     "output_type": "execute_result"
    }
   ],
   "source": [
    "autoencoder.conv1.weight.data[0] # init weights"
   ]
  },
  {
   "cell_type": "code",
   "execution_count": 15,
   "metadata": {},
   "outputs": [],
   "source": [
    "epochs = 50\n",
    "learning_rate = 1e-3"
   ]
  },
  {
   "cell_type": "code",
   "execution_count": 16,
   "metadata": {},
   "outputs": [],
   "source": [
    "criterion = nn.MSELoss().to(device)    # Softmax is internally computed.\n",
    "optimizer = torch.optim.Adam(autoencoder.parameters(), lr=learning_rate)"
   ]
  },
  {
   "cell_type": "code",
   "execution_count": 17,
   "metadata": {},
   "outputs": [
    {
     "name": "stdout",
     "output_type": "stream",
     "text": [
      "Learning started. It takes sometime.\n",
      "[Epoch:    1] cost = 0.066141434\n",
      "[Epoch:    2] cost = 0.0564479232\n",
      "[Epoch:    3] cost = 0.0523669161\n",
      "[Epoch:    4] cost = 0.051174663\n",
      "[Epoch:    5] cost = 0.0504480004\n",
      "[Epoch:    6] cost = 0.0500795729\n",
      "[Epoch:    7] cost = 0.0497360826\n",
      "[Epoch:    8] cost = 0.049522765\n",
      "[Epoch:    9] cost = 0.049303513\n",
      "[Epoch:   10] cost = 0.049112346\n",
      "[Epoch:   11] cost = 0.0490177087\n",
      "[Epoch:   12] cost = 0.0489001237\n",
      "[Epoch:   13] cost = 0.0487799607\n",
      "[Epoch:   14] cost = 0.0487048924\n",
      "[Epoch:   15] cost = 0.0486033224\n",
      "[Epoch:   16] cost = 0.0485429503\n",
      "[Epoch:   17] cost = 0.0484569557\n",
      "[Epoch:   18] cost = 0.0483135283\n",
      "[Epoch:   19] cost = 0.0482614748\n",
      "[Epoch:   20] cost = 0.0482227542\n",
      "[Epoch:   21] cost = 0.0481794551\n",
      "[Epoch:   22] cost = 0.0481367335\n",
      "[Epoch:   23] cost = 0.0480461977\n",
      "[Epoch:   24] cost = 0.0480122715\n",
      "[Epoch:   25] cost = 0.0479152128\n",
      "[Epoch:   26] cost = 0.0478815772\n",
      "[Epoch:   27] cost = 0.0478753634\n",
      "[Epoch:   28] cost = 0.0478442684\n",
      "[Epoch:   29] cost = 0.0477870442\n",
      "[Epoch:   30] cost = 0.0477601811\n",
      "[Epoch:   31] cost = 0.0477500781\n",
      "[Epoch:   32] cost = 0.0476179086\n",
      "[Epoch:   33] cost = 0.0476355962\n",
      "[Epoch:   34] cost = 0.0475474857\n",
      "[Epoch:   35] cost = 0.0475379415\n",
      "[Epoch:   36] cost = 0.0475285985\n",
      "[Epoch:   37] cost = 0.0475290455\n",
      "[Epoch:   38] cost = 0.0474863984\n",
      "[Epoch:   39] cost = 0.047473494\n",
      "[Epoch:   40] cost = 0.0473831818\n",
      "[Epoch:   41] cost = 0.0473949537\n",
      "[Epoch:   42] cost = 0.047370173\n",
      "[Epoch:   43] cost = 0.0473636054\n",
      "[Epoch:   44] cost = 0.0473395549\n",
      "[Epoch:   45] cost = 0.0473685898\n",
      "[Epoch:   46] cost = 0.0472902171\n",
      "[Epoch:   47] cost = 0.0472572856\n",
      "[Epoch:   48] cost = 0.0472841524\n",
      "[Epoch:   49] cost = 0.0472407117\n",
      "[Epoch:   50] cost = 0.047230158\n",
      "Learning Finished!\n",
      "Wall time: 7min 35s\n"
     ]
    }
   ],
   "source": [
    "%%time\n",
    "autoencoder.train() # train setting\n",
    "\n",
    "total_batch = len(mymnist.train_data_loader)\n",
    "print('Learning started. It takes sometime.')\n",
    "for epoch in range(epochs):\n",
    "    avg_cost = 0\n",
    "\n",
    "    for X, Y in mymnist.train_data_loader:\n",
    "        X = X.to(device)\n",
    "\n",
    "        optimizer.zero_grad()\n",
    "        X_hat = autoencoder(X)\n",
    "        cost = criterion(X_hat, X)\n",
    "        cost.backward()\n",
    "        optimizer.step()\n",
    "\n",
    "        avg_cost += cost / total_batch\n",
    "\n",
    "    print('[Epoch: {:>4}] cost = {:>.9}'.format(epoch + 1, avg_cost))\n",
    "\n",
    "print('Learning Finished!')"
   ]
  },
  {
   "cell_type": "markdown",
   "metadata": {},
   "source": [
    "check weights after training"
   ]
  },
  {
   "cell_type": "code",
   "execution_count": 18,
   "metadata": {},
   "outputs": [
    {
     "data": {
      "text/plain": [
       "tensor([[[ 0.0489, -0.0563,  0.0444,  0.1595,  0.4283],\n",
       "         [ 0.2519,  0.0984,  0.0740,  0.0771,  0.0715],\n",
       "         [-0.1297,  0.0401, -0.0581,  0.1271,  0.0917],\n",
       "         [-0.3566,  0.0901, -0.0082,  0.3378, -0.2145],\n",
       "         [ 0.1030, -0.0639,  0.0480,  0.3450,  0.0296]]], device='cuda:0')"
      ]
     },
     "execution_count": 18,
     "metadata": {},
     "output_type": "execute_result"
    }
   ],
   "source": [
    "autoencoder.conv1.weight.data[0]"
   ]
  },
  {
   "cell_type": "markdown",
   "metadata": {},
   "source": [
    "## Test Autoencoder model"
   ]
  },
  {
   "cell_type": "code",
   "execution_count": 19,
   "metadata": {},
   "outputs": [
    {
     "data": {
      "image/png": "[encoded data removed]",
      "text/plain": [
       "<Figure size 432x288 with 1 Axes>"
      ]
     },
     "metadata": {
      "needs_background": "light"
     },
     "output_type": "display_data"
    }
   ],
   "source": [
    "with torch.no_grad():\n",
    "    autoencoder.eval()\n",
    "    for data, Y in mymnist.test_data_loader:\n",
    "        X, labels = data, Y\n",
    "        X = X.to(device)\n",
    "        \n",
    "        r = random.randint(0, mymnist.test_data_loader.batch_size)\n",
    "        X_hat = autoencoder(X[r].view(1, 1, 28, 28))\n",
    "        \n",
    " \n",
    "        fig = plt.figure()\n",
    "        ax = fig.add_subplot(1,1,1)\n",
    "\n",
    "        ax.imshow(X_hat.cpu().reshape(28,28), cmap = 'gray')\n",
    "        ax.set_title('label: {}'.format(labels[r]))\n",
    "        plt.show()\n",
    "\n",
    "        break"
   ]
  },
  {
   "cell_type": "markdown",
   "metadata": {},
   "source": [
    "# DeepSVDD Network"
   ]
  },
  {
   "cell_type": "code",
   "execution_count": 20,
   "metadata": {},
   "outputs": [],
   "source": [
    "deep_svdd = DeepSVDDNet(autoencoder)"
   ]
  },
  {
   "cell_type": "code",
   "execution_count": 21,
   "metadata": {},
   "outputs": [
    {
     "data": {
      "text/plain": [
       "DeepSVDDNet(\n",
       "  (net): AE(\n",
       "    (pool): MaxPool2d(kernel_size=2, stride=2, padding=0, dilation=1, ceil_mode=False)\n",
       "    (conv1): Conv2d(1, 8, kernel_size=(5, 5), stride=(1, 1), padding=(2, 2), bias=False)\n",
       "    (bn1): BatchNorm2d(8, eps=0.0001, momentum=0.1, affine=False, track_running_stats=True)\n",
       "    (conv2): Conv2d(8, 4, kernel_size=(5, 5), stride=(1, 1), padding=(2, 2), bias=False)\n",
       "    (bn2): BatchNorm2d(4, eps=0.0001, momentum=0.1, affine=False, track_running_stats=True)\n",
       "    (fc1): Linear(in_features=196, out_features=2, bias=False)\n",
       "    (deconv1): ConvTranspose2d(2, 4, kernel_size=(7, 7), stride=(1, 1), bias=False)\n",
       "    (bn3): BatchNorm2d(4, eps=0.0001, momentum=0.1, affine=False, track_running_stats=True)\n",
       "    (deconv2): ConvTranspose2d(4, 8, kernel_size=(5, 5), stride=(1, 1), padding=(3, 3), bias=False)\n",
       "    (bn4): BatchNorm2d(8, eps=0.0001, momentum=0.1, affine=False, track_running_stats=True)\n",
       "    (deconv3): ConvTranspose2d(8, 1, kernel_size=(5, 5), stride=(1, 1), padding=(2, 2), bias=False)\n",
       "  )\n",
       ")"
      ]
     },
     "execution_count": 21,
     "metadata": {},
     "output_type": "execute_result"
    }
   ],
   "source": [
    "deep_svdd"
   ]
  },
  {
   "cell_type": "markdown",
   "metadata": {},
   "source": [
    "check weights after update"
   ]
  },
  {
   "cell_type": "code",
   "execution_count": 22,
   "metadata": {},
   "outputs": [
    {
     "data": {
      "text/plain": [
       "tensor([[[ 0.0489, -0.0563,  0.0444,  0.1595,  0.4283],\n",
       "         [ 0.2519,  0.0984,  0.0740,  0.0771,  0.0715],\n",
       "         [-0.1297,  0.0401, -0.0581,  0.1271,  0.0917],\n",
       "         [-0.3566,  0.0901, -0.0082,  0.3378, -0.2145],\n",
       "         [ 0.1030, -0.0639,  0.0480,  0.3450,  0.0296]]], device='cuda:0')"
      ]
     },
     "execution_count": 22,
     "metadata": {},
     "output_type": "execute_result"
    }
   ],
   "source": [
    "deep_svdd.net.conv1.weight.data[0]"
   ]
  },
  {
   "cell_type": "code",
   "execution_count": 23,
   "metadata": {},
   "outputs": [],
   "source": [
    "from lib.DeepSVDDTrainer import *"
   ]
  },
  {
   "cell_type": "code",
   "execution_count": 24,
   "metadata": {},
   "outputs": [],
   "source": [
    "deep_svdd_trainer = DeepSVDDTrainer(deep_svdd, device)"
   ]
  },
  {
   "cell_type": "code",
   "execution_count": 25,
   "metadata": {},
   "outputs": [
    {
     "data": {
      "text/plain": [
       "tensor([1.9395, 2.3634], device='cuda:0')"
      ]
     },
     "execution_count": 25,
     "metadata": {},
     "output_type": "execute_result"
    }
   ],
   "source": [
    "deep_svdd_trainer.init_center_c(mymnist.train_data_loader, device)"
   ]
  },
  {
   "cell_type": "code",
   "execution_count": 26,
   "metadata": {},
   "outputs": [
    {
     "data": {
      "text/plain": [
       "torch.Size([2])"
      ]
     },
     "execution_count": 26,
     "metadata": {},
     "output_type": "execute_result"
    }
   ],
   "source": [
    "deep_svdd_trainer.c.shape"
   ]
  },
  {
   "cell_type": "code",
   "execution_count": 27,
   "metadata": {},
   "outputs": [],
   "source": [
    "normal_class = 1"
   ]
  },
  {
   "cell_type": "code",
   "execution_count": 28,
   "metadata": {},
   "outputs": [
    {
     "name": "stdout",
     "output_type": "stream",
     "text": [
      "[Epoch:    1] cost = 1.25334231\n",
      "[Epoch:    2] cost = 1.00001633\n",
      "[Epoch:    3] cost = 1.0\n",
      "[Epoch:    4] cost = 1.00001722\n",
      "[Epoch:    5] cost = 1.00064851\n",
      "[Epoch:    6] cost = 1.0\n",
      "[Epoch:    7] cost = 1.0\n",
      "[Epoch:    8] cost = 1.0\n",
      "[Epoch:    9] cost = 1.0\n",
      "[Epoch:   10] cost = 1.0\n",
      "[Epoch:   11] cost = 0.0756255521\n",
      "[Epoch:   12] cost = 0.029896037\n",
      "[Epoch:   13] cost = 0.0286028959\n",
      "[Epoch:   14] cost = 0.027149302\n",
      "[Epoch:   15] cost = 0.0213575961\n",
      "[Epoch:   16] cost = 0.0177839118\n",
      "[Epoch:   17] cost = 0.0183111101\n",
      "[Epoch:   18] cost = 0.0156399721\n",
      "[Epoch:   19] cost = 0.0169690013\n",
      "[Epoch:   20] cost = 0.0138387392\n",
      "[Epoch:   21] cost = 0.0143739799\n",
      "[Epoch:   22] cost = 0.0155412432\n",
      "[Epoch:   23] cost = 0.0129436509\n",
      "[Epoch:   24] cost = 0.0116090702\n",
      "[Epoch:   25] cost = 0.00960160386\n",
      "[Epoch:   26] cost = 0.011669184\n",
      "[Epoch:   27] cost = 0.0109421279\n",
      "[Epoch:   28] cost = 0.0106433686\n",
      "[Epoch:   29] cost = 0.0075805597\n",
      "[Epoch:   30] cost = 0.0085206778\n",
      "[Epoch:   31] cost = 0.00818718361\n",
      "[Epoch:   32] cost = 0.0105381748\n",
      "[Epoch:   33] cost = 0.00888650423\n",
      "[Epoch:   34] cost = 0.00727373533\n",
      "[Epoch:   35] cost = 0.00664037988\n",
      "[Epoch:   36] cost = 0.00669623577\n",
      "[Epoch:   37] cost = 0.00834715891\n",
      "[Epoch:   38] cost = 0.00774409462\n",
      "[Epoch:   39] cost = 0.00575688873\n",
      "[Epoch:   40] cost = 0.0066971012\n",
      "[Epoch:   41] cost = 0.00603085698\n",
      "[Epoch:   42] cost = 0.00697726511\n",
      "[Epoch:   43] cost = 0.00592775244\n",
      "[Epoch:   44] cost = 0.00571963189\n",
      "[Epoch:   45] cost = 0.00520692254\n",
      "[Epoch:   46] cost = 0.00598080036\n",
      "[Epoch:   47] cost = 0.00485536057\n",
      "[Epoch:   48] cost = 0.00478867122\n",
      "[Epoch:   49] cost = 0.0063827498\n"
     ]
    },
    {
     "data": {
      "text/plain": [
       "(tensor(0.0333, device='cuda:0'), tensor([1.9395, 2.3634], device='cuda:0'))"
      ]
     },
     "execution_count": 28,
     "metadata": {},
     "output_type": "execute_result"
    }
   ],
   "source": [
    "deep_svdd_trainer.train(normal_class, mymnist.train_data_loader, device, epochs = epoch)"
   ]
  },
  {
   "cell_type": "code",
   "execution_count": 29,
   "metadata": {},
   "outputs": [
    {
     "data": {
      "text/plain": [
       "tensor(0.0333, device='cuda:0')"
      ]
     },
     "execution_count": 29,
     "metadata": {},
     "output_type": "execute_result"
    }
   ],
   "source": [
    "deep_svdd_trainer.R"
   ]
  },
  {
   "cell_type": "code",
   "execution_count": 30,
   "metadata": {},
   "outputs": [
    {
     "data": {
      "text/plain": [
       "tensor([1.9395, 2.3634], device='cuda:0')"
      ]
     },
     "execution_count": 30,
     "metadata": {},
     "output_type": "execute_result"
    }
   ],
   "source": [
    "deep_svdd_trainer.c"
   ]
  },
  {
   "cell_type": "code",
   "execution_count": 31,
   "metadata": {},
   "outputs": [],
   "source": [
    "label_score = deep_svdd_trainer.test(normal_class , mymnist.test_data_loader, device)"
   ]
  },
  {
   "cell_type": "markdown",
   "metadata": {},
   "source": [
    "# AUC 계산"
   ]
  },
  {
   "cell_type": "code",
   "execution_count": 32,
   "metadata": {},
   "outputs": [],
   "source": [
    "labels, scores, rep_dims = zip(*label_score)\n",
    "labels = np.array(labels)\n",
    "scores = np.array(scores)\n",
    "rep_dims = np.array(rep_dims)"
   ]
  },
  {
   "cell_type": "code",
   "execution_count": 33,
   "metadata": {},
   "outputs": [],
   "source": [
    "for_auc_label = list(map(lambda x: 0 if x==normal_class else 1, labels))"
   ]
  },
  {
   "cell_type": "code",
   "execution_count": 34,
   "metadata": {},
   "outputs": [],
   "source": [
    "import pandas as pd"
   ]
  },
  {
   "cell_type": "code",
   "execution_count": 35,
   "metadata": {},
   "outputs": [],
   "source": [
    "R_in = scores[np.where(labels==normal_class)[0]]\n",
    "R_out = scores[np.where(labels!=normal_class)[0]]"
   ]
  },
  {
   "cell_type": "markdown",
   "metadata": {},
   "source": [
    "# AUC 결과 그래프 출력"
   ]
  },
  {
   "cell_type": "code",
   "execution_count": 36,
   "metadata": {},
   "outputs": [
    {
     "data": {
      "image/png": "[encoded data removed]",
      "text/plain": [
       "<Figure size 432x288 with 1 Axes>"
      ]
     },
     "metadata": {
      "needs_background": "light"
     },
     "output_type": "display_data"
    }
   ],
   "source": [
    "in_ = pd.DataFrame(R_in, columns=['Inlier'])\n",
    "out_ = pd.DataFrame(R_out, columns=['Outlier'])\n",
    "\n",
    "\n",
    "fig, ax = plt.subplots()\n",
    "in_.plot.kde(ax=ax, legend=True, title='Outliers vs Inliers (Deep SVDD)')\n",
    "out_.plot.kde(ax=ax, legend=True)\n",
    "plt.xlim(in_.min()[0], out_.max()[0])\n",
    "ax.grid(axis='x')\n",
    "ax.grid(axis='y')\n",
    "\n",
    "plt.show()"
   ]
  },
  {
   "cell_type": "code",
   "execution_count": 37,
   "metadata": {},
   "outputs": [
    {
     "data": {
      "text/html": [
       "<div>\n",
       "<style scoped>\n",
       "    .dataframe tbody tr th:only-of-type {\n",
       "        vertical-align: middle;\n",
       "    }\n",
       "\n",
       "    .dataframe tbody tr th {\n",
       "        vertical-align: top;\n",
       "    }\n",
       "\n",
       "    .dataframe thead th {\n",
       "        text-align: right;\n",
       "    }\n",
       "</style>\n",
       "<table border=\"1\" class=\"dataframe\">\n",
       "  <thead>\n",
       "    <tr style=\"text-align: right;\">\n",
       "      <th></th>\n",
       "      <th>Inlier</th>\n",
       "    </tr>\n",
       "  </thead>\n",
       "  <tbody>\n",
       "    <tr>\n",
       "      <th>count</th>\n",
       "      <td>1133.000000</td>\n",
       "    </tr>\n",
       "    <tr>\n",
       "      <th>mean</th>\n",
       "      <td>-0.000162</td>\n",
       "    </tr>\n",
       "    <tr>\n",
       "      <th>std</th>\n",
       "      <td>0.001857</td>\n",
       "    </tr>\n",
       "    <tr>\n",
       "      <th>min</th>\n",
       "      <td>-0.001107</td>\n",
       "    </tr>\n",
       "    <tr>\n",
       "      <th>25%</th>\n",
       "      <td>-0.000702</td>\n",
       "    </tr>\n",
       "    <tr>\n",
       "      <th>50%</th>\n",
       "      <td>-0.000434</td>\n",
       "    </tr>\n",
       "    <tr>\n",
       "      <th>75%</th>\n",
       "      <td>-0.000046</td>\n",
       "    </tr>\n",
       "    <tr>\n",
       "      <th>max</th>\n",
       "      <td>0.050899</td>\n",
       "    </tr>\n",
       "  </tbody>\n",
       "</table>\n",
       "</div>"
      ],
      "text/plain": [
       "            Inlier\n",
       "count  1133.000000\n",
       "mean     -0.000162\n",
       "std       0.001857\n",
       "min      -0.001107\n",
       "25%      -0.000702\n",
       "50%      -0.000434\n",
       "75%      -0.000046\n",
       "max       0.050899"
      ]
     },
     "execution_count": 37,
     "metadata": {},
     "output_type": "execute_result"
    }
   ],
   "source": [
    "in_.describe()"
   ]
  },
  {
   "cell_type": "code",
   "execution_count": 38,
   "metadata": {},
   "outputs": [
    {
     "data": {
      "text/html": [
       "<div>\n",
       "<style scoped>\n",
       "    .dataframe tbody tr th:only-of-type {\n",
       "        vertical-align: middle;\n",
       "    }\n",
       "\n",
       "    .dataframe tbody tr th {\n",
       "        vertical-align: top;\n",
       "    }\n",
       "\n",
       "    .dataframe thead th {\n",
       "        text-align: right;\n",
       "    }\n",
       "</style>\n",
       "<table border=\"1\" class=\"dataframe\">\n",
       "  <thead>\n",
       "    <tr style=\"text-align: right;\">\n",
       "      <th></th>\n",
       "      <th>Outlier</th>\n",
       "    </tr>\n",
       "  </thead>\n",
       "  <tbody>\n",
       "    <tr>\n",
       "      <th>count</th>\n",
       "      <td>8851.000000</td>\n",
       "    </tr>\n",
       "    <tr>\n",
       "      <th>mean</th>\n",
       "      <td>0.017933</td>\n",
       "    </tr>\n",
       "    <tr>\n",
       "      <th>std</th>\n",
       "      <td>0.052021</td>\n",
       "    </tr>\n",
       "    <tr>\n",
       "      <th>min</th>\n",
       "      <td>-0.001108</td>\n",
       "    </tr>\n",
       "    <tr>\n",
       "      <th>25%</th>\n",
       "      <td>0.000479</td>\n",
       "    </tr>\n",
       "    <tr>\n",
       "      <th>50%</th>\n",
       "      <td>0.003438</td>\n",
       "    </tr>\n",
       "    <tr>\n",
       "      <th>75%</th>\n",
       "      <td>0.011113</td>\n",
       "    </tr>\n",
       "    <tr>\n",
       "      <th>max</th>\n",
       "      <td>1.061102</td>\n",
       "    </tr>\n",
       "  </tbody>\n",
       "</table>\n",
       "</div>"
      ],
      "text/plain": [
       "           Outlier\n",
       "count  8851.000000\n",
       "mean      0.017933\n",
       "std       0.052021\n",
       "min      -0.001108\n",
       "25%       0.000479\n",
       "50%       0.003438\n",
       "75%       0.011113\n",
       "max       1.061102"
      ]
     },
     "execution_count": 38,
     "metadata": {},
     "output_type": "execute_result"
    }
   ],
   "source": [
    "out_.describe()"
   ]
  },
  {
   "cell_type": "code",
   "execution_count": 39,
   "metadata": {},
   "outputs": [
    {
     "data": {
      "image/png": "[encoded data removed]",
      "text/plain": [
       "<Figure size 432x288 with 1 Axes>"
      ]
     },
     "metadata": {
      "needs_background": "light"
     },
     "output_type": "display_data"
    }
   ],
   "source": [
    "in_.boxplot()\n",
    "plt.show()"
   ]
  },
  {
   "cell_type": "code",
   "execution_count": 40,
   "metadata": {},
   "outputs": [
    {
     "data": {
      "image/png": "[encoded data removed]",
      "text/plain": [
       "<Figure size 432x288 with 1 Axes>"
      ]
     },
     "metadata": {
      "needs_background": "light"
     },
     "output_type": "display_data"
    }
   ],
   "source": [
    "out_.boxplot()\n",
    "plt.show()"
   ]
  },
  {
   "cell_type": "code",
   "execution_count": 41,
   "metadata": {},
   "outputs": [
    {
     "data": {
      "text/plain": [
       "tensor([1.9395, 2.3634], device='cuda:0')"
      ]
     },
     "execution_count": 41,
     "metadata": {},
     "output_type": "execute_result"
    }
   ],
   "source": [
    "deep_svdd_trainer.c"
   ]
  },
  {
   "cell_type": "code",
   "execution_count": 42,
   "metadata": {},
   "outputs": [],
   "source": [
    "c = deep_svdd_trainer.c.cpu().numpy()"
   ]
  },
  {
   "cell_type": "code",
   "execution_count": 43,
   "metadata": {},
   "outputs": [
    {
     "data": {
      "text/plain": [
       "array([1.9394965, 2.3633525], dtype=float32)"
      ]
     },
     "execution_count": 43,
     "metadata": {},
     "output_type": "execute_result"
    }
   ],
   "source": [
    "c"
   ]
  },
  {
   "cell_type": "code",
   "execution_count": 44,
   "metadata": {},
   "outputs": [
    {
     "data": {
      "text/plain": [
       "(9984, 2)"
      ]
     },
     "execution_count": 44,
     "metadata": {},
     "output_type": "execute_result"
    }
   ],
   "source": [
    "rep_dims.shape"
   ]
  },
  {
   "cell_type": "code",
   "execution_count": 45,
   "metadata": {},
   "outputs": [
    {
     "data": {
      "text/plain": [
       "(9984,)"
      ]
     },
     "execution_count": 45,
     "metadata": {},
     "output_type": "execute_result"
    }
   ],
   "source": [
    "labels.shape"
   ]
  },
  {
   "cell_type": "markdown",
   "metadata": {},
   "source": [
    "# deep svdd 출력 2dim 그래프로 나타내기"
   ]
  },
  {
   "cell_type": "code",
   "execution_count": 46,
   "metadata": {},
   "outputs": [],
   "source": [
    "df = pd.DataFrame({'x': rep_dims[:, 0], 'y': rep_dims[:, 0], 'label': labels==normal_class})"
   ]
  },
  {
   "cell_type": "code",
   "execution_count": 47,
   "metadata": {},
   "outputs": [
    {
     "data": {
      "image/png": "[encoded data removed]",
      "text/plain": [
       "<Figure size 432x288 with 1 Axes>"
      ]
     },
     "metadata": {
      "needs_background": "light"
     },
     "output_type": "display_data"
    }
   ],
   "source": [
    "plt.scatter(df['x'],df['y'],c=df['label'])\n",
    "plt.scatter(c[0], c[1])\n",
    "plt.show()\n"
   ]
  },
  {
   "cell_type": "markdown",
   "metadata": {},
   "source": [
    "## One Sample test"
   ]
  },
  {
   "cell_type": "code",
   "execution_count": 48,
   "metadata": {},
   "outputs": [],
   "source": [
    "x= mymnist.mnist_train.data[2].to(device) "
   ]
  },
  {
   "cell_type": "code",
   "execution_count": 49,
   "metadata": {},
   "outputs": [
    {
     "data": {
      "text/plain": [
       "torch.Size([28, 28])"
      ]
     },
     "execution_count": 49,
     "metadata": {},
     "output_type": "execute_result"
    }
   ],
   "source": [
    "x.shape"
   ]
  },
  {
   "cell_type": "code",
   "execution_count": 50,
   "metadata": {},
   "outputs": [],
   "source": [
    "y = mymnist.mnist_train.targets[2]"
   ]
  },
  {
   "cell_type": "code",
   "execution_count": 51,
   "metadata": {},
   "outputs": [
    {
     "data": {
      "image/png": "[encoded data removed]",
      "text/plain": [
       "<Figure size 432x288 with 1 Axes>"
      ]
     },
     "metadata": {
      "needs_background": "light"
     },
     "output_type": "display_data"
    }
   ],
   "source": [
    "plt.imshow(x.cpu(), cmap='gray')\n",
    "plt.title(str(y.numpy()))\n",
    "plt.show()"
   ]
  },
  {
   "cell_type": "code",
   "execution_count": 52,
   "metadata": {},
   "outputs": [],
   "source": [
    "x = x.view(-1, 1,  28, 28).to(device)\n",
    "x = x.float() / 255."
   ]
  },
  {
   "cell_type": "code",
   "execution_count": 53,
   "metadata": {},
   "outputs": [
    {
     "data": {
      "text/plain": [
       "tensor(0.0333, device='cuda:0')"
      ]
     },
     "execution_count": 53,
     "metadata": {},
     "output_type": "execute_result"
    }
   ],
   "source": [
    "deep_svdd_trainer.R"
   ]
  },
  {
   "cell_type": "code",
   "execution_count": 54,
   "metadata": {},
   "outputs": [
    {
     "name": "stdout",
     "output_type": "stream",
     "text": [
      "tensor([[1.8390, 2.2355]], device='cuda:0')\n"
     ]
    }
   ],
   "source": [
    "with torch.no_grad():\n",
    "    outputs = deep_svdd_trainer.net(x)\n",
    "    print(outputs)"
   ]
  },
  {
   "cell_type": "code",
   "execution_count": 55,
   "metadata": {},
   "outputs": [
    {
     "data": {
      "text/plain": [
       "tensor([0.0264], device='cuda:0')"
      ]
     },
     "execution_count": 55,
     "metadata": {},
     "output_type": "execute_result"
    }
   ],
   "source": [
    "dist = torch.sum((outputs - deep_svdd_trainer.c) ** 2, dim=1)\n",
    "dist"
   ]
  },
  {
   "cell_type": "code",
   "execution_count": 56,
   "metadata": {},
   "outputs": [
    {
     "data": {
      "text/plain": [
       "tensor([0.0253], device='cuda:0')"
      ]
     },
     "execution_count": 56,
     "metadata": {},
     "output_type": "execute_result"
    }
   ],
   "source": [
    "scores = dist - deep_svdd_trainer.R ** 2\n",
    "scores"
   ]
  },
  {
   "cell_type": "code",
   "execution_count": null,
   "metadata": {},
   "outputs": [],
   "source": []
  }
 ],
 "metadata": {
  "kernelspec": {
   "display_name": "Python 3",
   "language": "python",
   "name": "python3"
  },
  "language_info": {
   "codemirror_mode": {
    "name": "ipython",
    "version": 3
   },
   "file_extension": ".py",
   "mimetype": "text/x-python",
   "name": "python",
   "nbconvert_exporter": "python",
   "pygments_lexer": "ipython3",
   "version": "3.7.0"
  },
  "toc": {
   "base_numbering": 1,
   "nav_menu": {},
   "number_sections": true,
   "sideBar": true,
   "skip_h1_title": false,
   "title_cell": "Table of Contents",
   "title_sidebar": "Contents",
   "toc_cell": false,
   "toc_position": {},
   "toc_section_display": true,
   "toc_window_display": false
  }
 },
 "nbformat": 4,
 "nbformat_minor": 4
}
