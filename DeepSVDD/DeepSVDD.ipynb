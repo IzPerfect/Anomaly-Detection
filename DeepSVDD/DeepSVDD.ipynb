{
 "cells": [
  {
   "cell_type": "markdown",
   "metadata": {},
   "source": [
    "- 모두의 연구소 풀잎스쿨 - Deep Learning for Anomaly Detection 논문 리뷰 4주차 발표 코드"
   ]
  },
  {
   "cell_type": "markdown",
   "metadata": {},
   "source": [
    "Paper: [Deep One-Class Classification](http://data.bit.uni-bonn.de/publications/ICML2018.pdf)"
   ]
  },
  {
   "cell_type": "markdown",
   "metadata": {},
   "source": [
    "아래 코드를 참고\n",
    "- [PyTorch Implementation of Deep SVDD](https://github.com/lukasruff/Deep-SVDD-PyTorch)\n",
    "- [[바람돌이/딥러닝] Deep SVDD 논문 및 코드 리뷰](https://blog.naver.com/PostView.nhn?blogId=winddori2002&logNo=222142873877&categoryNo=32&parentCategoryNo=1&viewDate=&currentPage=1&postListTopCurrentPage=1&from=postView)"
   ]
  },
  {
   "cell_type": "markdown",
   "metadata": {},
   "source": [
    "# Import Libs"
   ]
  },
  {
   "cell_type": "code",
   "execution_count": 1,
   "metadata": {},
   "outputs": [],
   "source": [
    "import torch\n",
    "import torch.nn as nn\n",
    "import torch.nn.functional as F\n",
    "import torch.optim as optim\n",
    "\n",
    "import random\n",
    "import matplotlib.pyplot as plt\n",
    "\n",
    "import os\n",
    "import numpy as np\n",
    "import sys"
   ]
  },
  {
   "cell_type": "code",
   "execution_count": 2,
   "metadata": {},
   "outputs": [
    {
     "data": {
      "text/plain": [
       "'1.1.0'"
      ]
     },
     "execution_count": 2,
     "metadata": {},
     "output_type": "execute_result"
    },
    {
     "data": {
      "text/plain": [
       "'1.1.0'"
      ]
     },
     "execution_count": 2,
     "metadata": {},
     "output_type": "execute_result"
    }
   ],
   "source": [
    "# version check\n",
    "torch.__version__"
   ]
  },
  {
   "cell_type": "code",
   "execution_count": 3,
   "metadata": {},
   "outputs": [
    {
     "data": {
      "text/plain": [
       "sys.version_info(major=3, minor=7, micro=9, releaselevel='final', serial=0)"
      ]
     },
     "execution_count": 3,
     "metadata": {},
     "output_type": "execute_result"
    },
    {
     "data": {
      "text/plain": [
       "sys.version_info(major=3, minor=7, micro=9, releaselevel='final', serial=0)"
      ]
     },
     "execution_count": 3,
     "metadata": {},
     "output_type": "execute_result"
    }
   ],
   "source": [
    "# version check\n",
    "sys.version_info"
   ]
  },
  {
   "cell_type": "code",
   "execution_count": 4,
   "metadata": {},
   "outputs": [],
   "source": [
    "cwd = os.getcwd() # get current path"
   ]
  },
  {
   "cell_type": "code",
   "execution_count": 5,
   "metadata": {},
   "outputs": [
    {
     "data": {
      "text/plain": [
       "'cpu'"
      ]
     },
     "execution_count": 5,
     "metadata": {},
     "output_type": "execute_result"
    },
    {
     "data": {
      "text/plain": [
       "'cpu'"
      ]
     },
     "execution_count": 5,
     "metadata": {},
     "output_type": "execute_result"
    }
   ],
   "source": [
    "# device setting\n",
    "device = 'cuda' if torch.cuda.is_available() else 'cpu'\n",
    "device"
   ]
  },
  {
   "cell_type": "code",
   "execution_count": 6,
   "metadata": {},
   "outputs": [],
   "source": [
    "# for reproducibility\n",
    "random.seed(1)\n",
    "torch.manual_seed(1)\n",
    "if device == 'cuda':\n",
    "    torch.cuda.manual_seed_all(1)"
   ]
  },
  {
   "cell_type": "markdown",
   "metadata": {},
   "source": [
    "# MNIST Data Load"
   ]
  },
  {
   "cell_type": "code",
   "execution_count": 7,
   "metadata": {},
   "outputs": [],
   "source": [
    "from lib.mnist import *"
   ]
  },
  {
   "cell_type": "code",
   "execution_count": 8,
   "metadata": {},
   "outputs": [],
   "source": [
    "mymnist = MyMNIST()"
   ]
  },
  {
   "cell_type": "code",
   "execution_count": 9,
   "metadata": {},
   "outputs": [
    {
     "data": {
      "text/plain": [
       "128"
      ]
     },
     "execution_count": 9,
     "metadata": {},
     "output_type": "execute_result"
    },
    {
     "data": {
      "text/plain": [
       "128"
      ]
     },
     "execution_count": 9,
     "metadata": {},
     "output_type": "execute_result"
    }
   ],
   "source": [
    "mymnist.train_data_loader.batch_size # batch size"
   ]
  },
  {
   "cell_type": "code",
   "execution_count": 10,
   "metadata": {},
   "outputs": [
    {
     "data": {
      "image/png": "[encoded data removed]",
      "text/plain": [
       "<Figure size 432x288 with 1 Axes>"
      ]
     },
     "metadata": {
      "needs_background": "light"
     },
     "output_type": "display_data"
    },
    {
     "data": {
      "image/png": "[encoded data removed]",
      "text/plain": [
       "<Figure size 432x288 with 1 Axes>"
      ]
     },
     "metadata": {
      "needs_background": "light"
     },
     "output_type": "display_data"
    }
   ],
   "source": [
    "# check mnist data\n",
    "for X, Y in mymnist.train_data_loader:\n",
    "    r = random.randint(0, mymnist.train_data_loader.batch_size)\n",
    "    fig = plt.figure()\n",
    "    ax = fig.add_subplot(1,1,1)\n",
    "    \n",
    "    ax.imshow(X[r].reshape(28,28), cmap = 'gray')\n",
    "    ax.set_title('label: {}'.format(Y[r]))\n",
    "    plt.show()\n",
    "    break\n",
    "    "
   ]
  },
  {
   "cell_type": "markdown",
   "metadata": {},
   "source": [
    "# Autoencoder"
   ]
  },
  {
   "cell_type": "code",
   "execution_count": 11,
   "metadata": {},
   "outputs": [],
   "source": [
    "from lib.networks import *"
   ]
  },
  {
   "cell_type": "code",
   "execution_count": 12,
   "metadata": {},
   "outputs": [],
   "source": [
    "autoencoder = AE()"
   ]
  },
  {
   "cell_type": "code",
   "execution_count": 13,
   "metadata": {},
   "outputs": [
    {
     "data": {
      "text/plain": [
       "AE(\n",
       "  (pool): MaxPool2d(kernel_size=2, stride=2, padding=0, dilation=1, ceil_mode=False)\n",
       "  (conv1): Conv2d(1, 8, kernel_size=(5, 5), stride=(1, 1), padding=(2, 2), bias=False)\n",
       "  (bn1): BatchNorm2d(8, eps=0.0001, momentum=0.1, affine=False, track_running_stats=True)\n",
       "  (conv2): Conv2d(8, 4, kernel_size=(5, 5), stride=(1, 1), padding=(2, 2), bias=False)\n",
       "  (bn2): BatchNorm2d(4, eps=0.0001, momentum=0.1, affine=False, track_running_stats=True)\n",
       "  (fc1): Linear(in_features=196, out_features=32, bias=False)\n",
       "  (deconv1): ConvTranspose2d(2, 4, kernel_size=(5, 5), stride=(1, 1), padding=(2, 2), bias=False)\n",
       "  (bn3): BatchNorm2d(4, eps=0.0001, momentum=0.1, affine=False, track_running_stats=True)\n",
       "  (deconv2): ConvTranspose2d(4, 8, kernel_size=(5, 5), stride=(1, 1), padding=(3, 3), bias=False)\n",
       "  (bn4): BatchNorm2d(8, eps=0.0001, momentum=0.1, affine=False, track_running_stats=True)\n",
       "  (deconv3): ConvTranspose2d(8, 1, kernel_size=(5, 5), stride=(1, 1), padding=(2, 2), bias=False)\n",
       ")"
      ]
     },
     "execution_count": 13,
     "metadata": {},
     "output_type": "execute_result"
    },
    {
     "data": {
      "text/plain": [
       "AE(\n",
       "  (pool): MaxPool2d(kernel_size=2, stride=2, padding=0, dilation=1, ceil_mode=False)\n",
       "  (conv1): Conv2d(1, 8, kernel_size=(5, 5), stride=(1, 1), padding=(2, 2), bias=False)\n",
       "  (bn1): BatchNorm2d(8, eps=0.0001, momentum=0.1, affine=False, track_running_stats=True)\n",
       "  (conv2): Conv2d(8, 4, kernel_size=(5, 5), stride=(1, 1), padding=(2, 2), bias=False)\n",
       "  (bn2): BatchNorm2d(4, eps=0.0001, momentum=0.1, affine=False, track_running_stats=True)\n",
       "  (fc1): Linear(in_features=196, out_features=32, bias=False)\n",
       "  (deconv1): ConvTranspose2d(2, 4, kernel_size=(5, 5), stride=(1, 1), padding=(2, 2), bias=False)\n",
       "  (bn3): BatchNorm2d(4, eps=0.0001, momentum=0.1, affine=False, track_running_stats=True)\n",
       "  (deconv2): ConvTranspose2d(4, 8, kernel_size=(5, 5), stride=(1, 1), padding=(3, 3), bias=False)\n",
       "  (bn4): BatchNorm2d(8, eps=0.0001, momentum=0.1, affine=False, track_running_stats=True)\n",
       "  (deconv3): ConvTranspose2d(8, 1, kernel_size=(5, 5), stride=(1, 1), padding=(2, 2), bias=False)\n",
       ")"
      ]
     },
     "execution_count": 13,
     "metadata": {},
     "output_type": "execute_result"
    }
   ],
   "source": [
    "autoencoder"
   ]
  },
  {
   "cell_type": "markdown",
   "metadata": {},
   "source": [
    "check weights before training"
   ]
  },
  {
   "cell_type": "code",
   "execution_count": 14,
   "metadata": {},
   "outputs": [
    {
     "data": {
      "text/plain": [
       "tensor([[[-0.0451,  0.1711,  0.1526,  0.1388, -0.0555],\n",
       "         [ 0.1929, -0.0180, -0.1085, -0.1262,  0.1290],\n",
       "         [-0.0484,  0.0050,  0.0810,  0.1887,  0.1327],\n",
       "         [-0.0088,  0.0123, -0.0187,  0.1024, -0.1708],\n",
       "         [ 0.0338, -0.1920, -0.0759,  0.0942, -0.1710]]])"
      ]
     },
     "execution_count": 14,
     "metadata": {},
     "output_type": "execute_result"
    },
    {
     "data": {
      "text/plain": [
       "tensor([[[-0.0451,  0.1711,  0.1526,  0.1388, -0.0555],\n",
       "         [ 0.1929, -0.0180, -0.1085, -0.1262,  0.1290],\n",
       "         [-0.0484,  0.0050,  0.0810,  0.1887,  0.1327],\n",
       "         [-0.0088,  0.0123, -0.0187,  0.1024, -0.1708],\n",
       "         [ 0.0338, -0.1920, -0.0759,  0.0942, -0.1710]]])"
      ]
     },
     "execution_count": 14,
     "metadata": {},
     "output_type": "execute_result"
    }
   ],
   "source": [
    "autoencoder.conv1.weight.data[0] # init weights"
   ]
  },
  {
   "cell_type": "code",
   "execution_count": 15,
   "metadata": {},
   "outputs": [],
   "source": [
    "epochs = 1\n",
    "learning_rate = 1e-3"
   ]
  },
  {
   "cell_type": "code",
   "execution_count": 16,
   "metadata": {},
   "outputs": [],
   "source": [
    "criterion = nn.MSELoss().to(device)    # Softmax is internally computed.\n",
    "optimizer = torch.optim.Adam(autoencoder.parameters(), lr=learning_rate)"
   ]
  },
  {
   "cell_type": "code",
   "execution_count": 17,
   "metadata": {},
   "outputs": [
    {
     "name": "stdout",
     "output_type": "stream",
     "text": [
      "Learning started. It takes sometime.\n",
      "Learning started. It takes sometime.\n",
      "[Epoch:    1] cost = 0.0420985781\n",
      "Learning Finished!\n",
      "Wall time: 1min 2s\n",
      "[Epoch:    1] cost = 0.0420985781\n",
      "Learning Finished!\n",
      "Wall time: 1min 2s\n"
     ]
    }
   ],
   "source": [
    "%%time\n",
    "autoencoder.train() # train setting\n",
    "\n",
    "total_batch = len(mymnist.train_data_loader)\n",
    "print('Learning started. It takes sometime.')\n",
    "for epoch in range(epochs):\n",
    "    avg_cost = 0\n",
    "\n",
    "    for X, Y in mymnist.train_data_loader:\n",
    "        X = X.to(device)\n",
    "\n",
    "        optimizer.zero_grad()\n",
    "        X_hat = autoencoder(X)\n",
    "        cost = criterion(X_hat, X)\n",
    "        cost.backward()\n",
    "        optimizer.step()\n",
    "\n",
    "        avg_cost += cost / total_batch\n",
    "\n",
    "    print('[Epoch: {:>4}] cost = {:>.9}'.format(epoch + 1, avg_cost))\n",
    "\n",
    "print('Learning Finished!')"
   ]
  },
  {
   "cell_type": "markdown",
   "metadata": {},
   "source": [
    "check after training"
   ]
  },
  {
   "cell_type": "code",
   "execution_count": 18,
   "metadata": {},
   "outputs": [
    {
     "data": {
      "text/plain": [
       "tensor([[[ 0.0043,  0.2008,  0.1127,  0.1232, -0.0578],\n",
       "         [ 0.2461, -0.0011, -0.1726, -0.1586,  0.1099],\n",
       "         [-0.0116, -0.0360,  0.0271,  0.1503,  0.1194],\n",
       "         [-0.0091, -0.0086, -0.0428,  0.0840, -0.1692],\n",
       "         [ 0.0152, -0.1937, -0.0887,  0.0846, -0.1583]]])"
      ]
     },
     "execution_count": 18,
     "metadata": {},
     "output_type": "execute_result"
    },
    {
     "data": {
      "text/plain": [
       "tensor([[[ 0.0043,  0.2008,  0.1127,  0.1232, -0.0578],\n",
       "         [ 0.2461, -0.0011, -0.1726, -0.1586,  0.1099],\n",
       "         [-0.0116, -0.0360,  0.0271,  0.1503,  0.1194],\n",
       "         [-0.0091, -0.0086, -0.0428,  0.0840, -0.1692],\n",
       "         [ 0.0152, -0.1937, -0.0887,  0.0846, -0.1583]]])"
      ]
     },
     "execution_count": 18,
     "metadata": {},
     "output_type": "execute_result"
    }
   ],
   "source": [
    "autoencoder.conv1.weight.data[0]"
   ]
  },
  {
   "cell_type": "markdown",
   "metadata": {},
   "source": [
    "# DeepSVDD Network"
   ]
  },
  {
   "cell_type": "code",
   "execution_count": 19,
   "metadata": {},
   "outputs": [],
   "source": [
    "deep_svdd = DeepSVDDNet(autoencoder)"
   ]
  },
  {
   "cell_type": "code",
   "execution_count": 20,
   "metadata": {},
   "outputs": [
    {
     "data": {
      "text/plain": [
       "DeepSVDDNet(\n",
       "  (net): AE(\n",
       "    (pool): MaxPool2d(kernel_size=2, stride=2, padding=0, dilation=1, ceil_mode=False)\n",
       "    (conv1): Conv2d(1, 8, kernel_size=(5, 5), stride=(1, 1), padding=(2, 2), bias=False)\n",
       "    (bn1): BatchNorm2d(8, eps=0.0001, momentum=0.1, affine=False, track_running_stats=True)\n",
       "    (conv2): Conv2d(8, 4, kernel_size=(5, 5), stride=(1, 1), padding=(2, 2), bias=False)\n",
       "    (bn2): BatchNorm2d(4, eps=0.0001, momentum=0.1, affine=False, track_running_stats=True)\n",
       "    (fc1): Linear(in_features=196, out_features=32, bias=False)\n",
       "    (deconv1): ConvTranspose2d(2, 4, kernel_size=(5, 5), stride=(1, 1), padding=(2, 2), bias=False)\n",
       "    (bn3): BatchNorm2d(4, eps=0.0001, momentum=0.1, affine=False, track_running_stats=True)\n",
       "    (deconv2): ConvTranspose2d(4, 8, kernel_size=(5, 5), stride=(1, 1), padding=(3, 3), bias=False)\n",
       "    (bn4): BatchNorm2d(8, eps=0.0001, momentum=0.1, affine=False, track_running_stats=True)\n",
       "    (deconv3): ConvTranspose2d(8, 1, kernel_size=(5, 5), stride=(1, 1), padding=(2, 2), bias=False)\n",
       "  )\n",
       ")"
      ]
     },
     "execution_count": 20,
     "metadata": {},
     "output_type": "execute_result"
    },
    {
     "data": {
      "text/plain": [
       "DeepSVDDNet(\n",
       "  (net): AE(\n",
       "    (pool): MaxPool2d(kernel_size=2, stride=2, padding=0, dilation=1, ceil_mode=False)\n",
       "    (conv1): Conv2d(1, 8, kernel_size=(5, 5), stride=(1, 1), padding=(2, 2), bias=False)\n",
       "    (bn1): BatchNorm2d(8, eps=0.0001, momentum=0.1, affine=False, track_running_stats=True)\n",
       "    (conv2): Conv2d(8, 4, kernel_size=(5, 5), stride=(1, 1), padding=(2, 2), bias=False)\n",
       "    (bn2): BatchNorm2d(4, eps=0.0001, momentum=0.1, affine=False, track_running_stats=True)\n",
       "    (fc1): Linear(in_features=196, out_features=32, bias=False)\n",
       "    (deconv1): ConvTranspose2d(2, 4, kernel_size=(5, 5), stride=(1, 1), padding=(2, 2), bias=False)\n",
       "    (bn3): BatchNorm2d(4, eps=0.0001, momentum=0.1, affine=False, track_running_stats=True)\n",
       "    (deconv2): ConvTranspose2d(4, 8, kernel_size=(5, 5), stride=(1, 1), padding=(3, 3), bias=False)\n",
       "    (bn4): BatchNorm2d(8, eps=0.0001, momentum=0.1, affine=False, track_running_stats=True)\n",
       "    (deconv3): ConvTranspose2d(8, 1, kernel_size=(5, 5), stride=(1, 1), padding=(2, 2), bias=False)\n",
       "  )\n",
       ")"
      ]
     },
     "execution_count": 20,
     "metadata": {},
     "output_type": "execute_result"
    }
   ],
   "source": [
    "deep_svdd"
   ]
  },
  {
   "cell_type": "markdown",
   "metadata": {},
   "source": [
    "check weights after update"
   ]
  },
  {
   "cell_type": "code",
   "execution_count": 21,
   "metadata": {},
   "outputs": [
    {
     "data": {
      "text/plain": [
       "tensor([[[ 0.0043,  0.2008,  0.1127,  0.1232, -0.0578],\n",
       "         [ 0.2461, -0.0011, -0.1726, -0.1586,  0.1099],\n",
       "         [-0.0116, -0.0360,  0.0271,  0.1503,  0.1194],\n",
       "         [-0.0091, -0.0086, -0.0428,  0.0840, -0.1692],\n",
       "         [ 0.0152, -0.1937, -0.0887,  0.0846, -0.1583]]])"
      ]
     },
     "execution_count": 21,
     "metadata": {},
     "output_type": "execute_result"
    },
    {
     "data": {
      "text/plain": [
       "tensor([[[ 0.0043,  0.2008,  0.1127,  0.1232, -0.0578],\n",
       "         [ 0.2461, -0.0011, -0.1726, -0.1586,  0.1099],\n",
       "         [-0.0116, -0.0360,  0.0271,  0.1503,  0.1194],\n",
       "         [-0.0091, -0.0086, -0.0428,  0.0840, -0.1692],\n",
       "         [ 0.0152, -0.1937, -0.0887,  0.0846, -0.1583]]])"
      ]
     },
     "execution_count": 21,
     "metadata": {},
     "output_type": "execute_result"
    }
   ],
   "source": [
    "deep_svdd.net.conv1.weight.data[0]"
   ]
  },
  {
   "cell_type": "code",
   "execution_count": 22,
   "metadata": {},
   "outputs": [],
   "source": [
    "from lib.DeepSVDDTrainer import *"
   ]
  },
  {
   "cell_type": "code",
   "execution_count": 23,
   "metadata": {},
   "outputs": [],
   "source": [
    "deep_svdd_trainer = DeepSVDDTrainer(deep_svdd, device)"
   ]
  },
  {
   "cell_type": "code",
   "execution_count": 24,
   "metadata": {},
   "outputs": [
    {
     "data": {
      "text/plain": [
       "tensor([-1.5565,  2.2084,  1.6957, -1.3035,  0.1000,  0.9375,  2.3738, -1.1158,\n",
       "         1.2410,  2.6203,  2.0333, -1.2435,  0.9519,  0.6849,  1.9140,  0.2618,\n",
       "        -0.5862,  0.9607,  3.4149, -1.3062, -0.1000,  1.0939,  1.5143,  0.8905,\n",
       "        -2.4483, -0.8450,  0.6553,  0.1807, -1.5275,  0.4098,  0.9791,  3.2228])"
      ]
     },
     "execution_count": 24,
     "metadata": {},
     "output_type": "execute_result"
    },
    {
     "data": {
      "text/plain": [
       "tensor([-1.5565,  2.2084,  1.6957, -1.3035,  0.1000,  0.9375,  2.3738, -1.1158,\n",
       "         1.2410,  2.6203,  2.0333, -1.2435,  0.9519,  0.6849,  1.9140,  0.2618,\n",
       "        -0.5862,  0.9607,  3.4149, -1.3062, -0.1000,  1.0939,  1.5143,  0.8905,\n",
       "        -2.4483, -0.8450,  0.6553,  0.1807, -1.5275,  0.4098,  0.9791,  3.2228])"
      ]
     },
     "execution_count": 24,
     "metadata": {},
     "output_type": "execute_result"
    }
   ],
   "source": [
    "deep_svdd_trainer.init_center_c(mymnist.train_data_loader, device)"
   ]
  },
  {
   "cell_type": "code",
   "execution_count": 25,
   "metadata": {},
   "outputs": [
    {
     "data": {
      "text/plain": [
       "torch.Size([32])"
      ]
     },
     "execution_count": 25,
     "metadata": {},
     "output_type": "execute_result"
    },
    {
     "data": {
      "text/plain": [
       "torch.Size([32])"
      ]
     },
     "execution_count": 25,
     "metadata": {},
     "output_type": "execute_result"
    }
   ],
   "source": [
    "deep_svdd_trainer.c.shape"
   ]
  },
  {
   "cell_type": "code",
   "execution_count": 30,
   "metadata": {},
   "outputs": [],
   "source": [
    "normal_class = 0"
   ]
  },
  {
   "cell_type": "code",
   "execution_count": 31,
   "metadata": {},
   "outputs": [
    {
     "name": "stdout",
     "output_type": "stream",
     "text": [
      "[Epoch:    1] cost = 0.415392665\n",
      "[Epoch:    1] cost = 0.415392665\n"
     ]
    },
    {
     "data": {
      "text/plain": [
       "(tensor(0),\n",
       " tensor([-1.5565,  2.2084,  1.6957, -1.3035,  0.1000,  0.9375,  2.3738, -1.1158,\n",
       "          1.2410,  2.6203,  2.0333, -1.2435,  0.9519,  0.6849,  1.9140,  0.2618,\n",
       "         -0.5862,  0.9607,  3.4149, -1.3062, -0.1000,  1.0939,  1.5143,  0.8905,\n",
       "         -2.4483, -0.8450,  0.6553,  0.1807, -1.5275,  0.4098,  0.9791,  3.2228]))"
      ]
     },
     "execution_count": 31,
     "metadata": {},
     "output_type": "execute_result"
    },
    {
     "data": {
      "text/plain": [
       "(tensor(0),\n",
       " tensor([-1.5565,  2.2084,  1.6957, -1.3035,  0.1000,  0.9375,  2.3738, -1.1158,\n",
       "          1.2410,  2.6203,  2.0333, -1.2435,  0.9519,  0.6849,  1.9140,  0.2618,\n",
       "         -0.5862,  0.9607,  3.4149, -1.3062, -0.1000,  1.0939,  1.5143,  0.8905,\n",
       "         -2.4483, -0.8450,  0.6553,  0.1807, -1.5275,  0.4098,  0.9791,  3.2228]))"
      ]
     },
     "execution_count": 31,
     "metadata": {},
     "output_type": "execute_result"
    }
   ],
   "source": [
    "deep_svdd_trainer.train(normal_class, mymnist.train_data_loader, device, epochs = 1)"
   ]
  },
  {
   "cell_type": "code",
   "execution_count": 32,
   "metadata": {},
   "outputs": [],
   "source": [
    "label_score = deep_svdd_trainer.test(0, mymnist.test_data_loader, device)"
   ]
  },
  {
   "cell_type": "markdown",
   "metadata": {},
   "source": [
    "# AUC 계산"
   ]
  },
  {
   "cell_type": "code",
   "execution_count": 33,
   "metadata": {},
   "outputs": [],
   "source": [
    "labels, scores = zip(*label_score)\n",
    "labels = np.array(labels)\n",
    "scores = np.array(scores)"
   ]
  },
  {
   "cell_type": "code",
   "execution_count": 39,
   "metadata": {},
   "outputs": [],
   "source": [
    "for_auc_label = list(map(lambda x: 0 if x==normal_class else 1, labels))"
   ]
  },
  {
   "cell_type": "code",
   "execution_count": 40,
   "metadata": {},
   "outputs": [],
   "source": [
    "import pandas as pd"
   ]
  },
  {
   "cell_type": "code",
   "execution_count": 41,
   "metadata": {},
   "outputs": [],
   "source": [
    "R_in = scores[np.where(labels==normal_class)[0]]\n",
    "R_out = scores[np.where(labels!=normal_class)[0]]"
   ]
  },
  {
   "cell_type": "code",
   "execution_count": 43,
   "metadata": {},
   "outputs": [
    {
     "data": {
      "image/png": "[encoded data removed]",
      "text/plain": [
       "<Figure size 432x288 with 1 Axes>"
      ]
     },
     "metadata": {
      "needs_background": "light"
     },
     "output_type": "display_data"
    },
    {
     "data": {
      "image/png": "[encoded data removed]",
      "text/plain": [
       "<Figure size 432x288 with 1 Axes>"
      ]
     },
     "metadata": {
      "needs_background": "light"
     },
     "output_type": "display_data"
    }
   ],
   "source": [
    "in_ = pd.DataFrame(R_in, columns=['Inlier'])\n",
    "out_ = pd.DataFrame(R_out, columns=['Outlier'])\n",
    "\n",
    "\n",
    "fig, ax = plt.subplots()\n",
    "in_.plot.kde(ax=ax, legend=True, title='Outliers vs Inliers (Deep SVDD)')\n",
    "out_.plot.kde(ax=ax, legend=True)\n",
    "plt.xlim(in_.min()[0], out_.max()[0])\n",
    "ax.grid(axis='x')\n",
    "ax.grid(axis='y')\n",
    "\n",
    "plt.show()"
   ]
  },
  {
   "cell_type": "code",
   "execution_count": null,
   "metadata": {},
   "outputs": [],
   "source": []
  },
  {
   "cell_type": "code",
   "execution_count": null,
   "metadata": {},
   "outputs": [],
   "source": []
  }
 ],
 "metadata": {
  "kernelspec": {
   "display_name": "Python 3",
   "language": "python",
   "name": "python3"
  },
  "language_info": {
   "codemirror_mode": {
    "name": "ipython",
    "version": 3
   },
   "file_extension": ".py",
   "mimetype": "text/x-python",
   "name": "python",
   "nbconvert_exporter": "python",
   "pygments_lexer": "ipython3",
   "version": "3.7.0"
  },
  "toc": {
   "base_numbering": 1,
   "nav_menu": {},
   "number_sections": true,
   "sideBar": true,
   "skip_h1_title": false,
   "title_cell": "Table of Contents",
   "title_sidebar": "Contents",
   "toc_cell": false,
   "toc_position": {},
   "toc_section_display": true,
   "toc_window_display": false
  }
 },
 "nbformat": 4,
 "nbformat_minor": 4
}
